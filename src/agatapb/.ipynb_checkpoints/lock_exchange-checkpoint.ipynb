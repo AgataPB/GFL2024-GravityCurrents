{
 "cells": [
  {
   "cell_type": "code",
   "execution_count": 2,
   "id": "8bad6280-fdfa-4cb5-a0b0-0f6bb88848f3",
   "metadata": {},
   "outputs": [
    {
     "name": "stderr",
     "output_type": "stream",
     "text": [
      "\u001b[36m\u001b[1m[ \u001b[22m\u001b[39m\u001b[36m\u001b[1mInfo: \u001b[22m\u001b[39mInitializing simulation...\n",
      "\u001b[36m\u001b[1m[ \u001b[22m\u001b[39m\u001b[36m\u001b[1mInfo: \u001b[22m\u001b[39m    ... simulation initialization complete (13.866 ms)\n",
      "\u001b[36m\u001b[1m[ \u001b[22m\u001b[39m\u001b[36m\u001b[1mInfo: \u001b[22m\u001b[39mExecuting initial time step...\n",
      "\u001b[36m\u001b[1m[ \u001b[22m\u001b[39m\u001b[36m\u001b[1mInfo: \u001b[22m\u001b[39m    ... initial time step complete (22.169 ms).\n",
      "\u001b[36m\u001b[1m[ \u001b[22m\u001b[39m\u001b[36m\u001b[1mInfo: \u001b[22m\u001b[39mSimulation is stopping after running for 21.024 seconds.\n",
      "\u001b[36m\u001b[1m[ \u001b[22m\u001b[39m\u001b[36m\u001b[1mInfo: \u001b[22m\u001b[39mSimulation time 1 day equals or exceeds stop time 1 day.\n"
     ]
    }
   ],
   "source": [
    "using Oceananigans\n",
    "using Oceananigans.Units\n",
    "\n",
    "grid = RectilinearGrid(CPU(), size = (160, 32), extent = (10000meters, 500meters), topology = (Bounded, Flat, Bounded))\n",
    "\n",
    "model = NonhydrostaticModel(; grid,\n",
    "                              advection = WENO(; grid),\n",
    "                              coriolis = FPlane(latitude = 0),\n",
    "                              closure = AnisotropicMinimumDissipation(),\n",
    "                              buoyancy = SeawaterBuoyancy(constant_salinity = true),\n",
    "                              tracers = (:T, :S))\n",
    "\n",
    "@inline Tᵢ(x, z) = 9 + 0.05 * tanh((x - 7000 + 4 * z) / 500)\n",
    "\n",
    "set!(model, T = Tᵢ)\n",
    "\n",
    "simulation = Simulation(model; Δt = 50, stop_time = 1days)\n",
    "\n",
    "simulation.output_writers[:tracers] = NetCDFOutputWriter(model, model.tracers,\n",
    "                                                       filename = \"../data/buoyancy_front.nc\",\n",
    "                                                       schedule = TimeInterval(24minute),\n",
    "                                                       overwrite_existing = true)\n",
    "\n",
    "run!(simulation)"
   ]
  }
 ],
 "metadata": {
  "kernelspec": {
   "display_name": "Julia 1.10.0",
   "language": "julia",
   "name": "julia-1.10"
  },
  "language_info": {
   "file_extension": ".jl",
   "mimetype": "application/julia",
   "name": "julia",
   "version": "1.10.0"
  }
 },
 "nbformat": 4,
 "nbformat_minor": 5
}
